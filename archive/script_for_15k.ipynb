{
 "cells": [
  {
   "cell_type": "code",
   "execution_count": 1,
   "id": "c478a4f3-f72e-4b0e-a78b-18891b80cbea",
   "metadata": {},
   "outputs": [
    {
     "name": "stdout",
     "output_type": "stream",
     "text": [
      "First 15,000 images copied successfully.\n"
     ]
    }
   ],
   "source": [
    "import os\n",
    "import shutil\n",
    "\n",
    "# Define the paths\n",
    "source_dir = '100k/100k'  # Path to the folder containing the 100,000 images\n",
    "dest_dir = '15k'           # Path to the destination folder\n",
    "\n",
    "# Ensure the destination directory exists\n",
    "os.makedirs(dest_dir, exist_ok=True)\n",
    "\n",
    "# List of all image filenames in the source directory, sorted\n",
    "images = sorted(os.listdir(source_dir))[:15000]  # Get first 15,000 images\n",
    "\n",
    "# Copy the images\n",
    "for img in images:\n",
    "    src_path = os.path.join(source_dir, img)\n",
    "    dest_path = os.path.join(dest_dir, img)\n",
    "    shutil.copy(src_path, dest_path)\n",
    "\n",
    "print(\"First 15,000 images copied successfully.\")\n"
   ]
  },
  {
   "cell_type": "code",
   "execution_count": null,
   "id": "0151864a-2b37-4c5a-8f91-e09a6f0fb950",
   "metadata": {},
   "outputs": [],
   "source": []
  }
 ],
 "metadata": {
  "kernelspec": {
   "display_name": "Python 3 (ipykernel)",
   "language": "python",
   "name": "python3"
  },
  "language_info": {
   "codemirror_mode": {
    "name": "ipython",
    "version": 3
   },
   "file_extension": ".py",
   "mimetype": "text/x-python",
   "name": "python",
   "nbconvert_exporter": "python",
   "pygments_lexer": "ipython3",
   "version": "3.12.4"
  }
 },
 "nbformat": 4,
 "nbformat_minor": 5
}
